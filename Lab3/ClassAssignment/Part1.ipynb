{
 "cells": [
  {
   "cell_type": "markdown",
   "metadata": {
    "hide_input": false
   },
   "source": [
    "# Semantics and Pragmatics, KIK-LG103\n",
    "\n",
    "## Lab session 3, Part 1\n",
    "\n",
    "---\n",
    "\n",
    "In this lab session we will work on distributional semantics. Our main focus is on trying to build up understanding and intuition of the concept of *meaning as embedding in a vector space*.\n",
    "\n",
    "In the second lecture the first step towards word embeddings was *semantic feature analysis*. In semantic feature analysis we try to find a minimal set of (binary) features which we can use to discriminate between the meanings of the words. Let's start this session with the same idea. \n",
    "\n",
    "First of all, run the cell below to import the library `plot_utils` for plotting our embeddings and to set a variable which controls how the figures are displayed."
   ]
  },
  {
   "cell_type": "code",
   "execution_count": null,
   "metadata": {},
   "outputs": [],
   "source": [
    "%matplotlib notebook\n",
    "\n",
    "import plot_utils"
   ]
  },
  {
   "cell_type": "markdown",
   "metadata": {},
   "source": [
    "### Section 1.1: Semantic feature analysis in three dimensions\n",
    "\n",
    "---\n",
    "\n",
    "In the code cell below you can see an example of semantic feature analysis (from slide 9).\n",
    "\n",
    "The dictionary `features` contains the names of the features we want to use, linked to their respective axes *x*, *y*, and *z*. The feature names are only used for visualization.\n",
    "\n",
    "Next we define a list of words with their analyses. Each word is represented as a *tuple* `(word, features)`. Don't worry too much about what a tuple is (you can think of it simply as a list); you only need to remember the syntax. \n",
    "\n",
    "The word is a string as always, and the features are represented as a list of integers (`[x, y, z]`). Our semantic features are binary, so let's use 1 for *positive*, -1 for *negative*, and 0 for *undefined*.\n",
    "\n",
    "Finally, the function `plot_3d_binary` plots the word vectors.\n",
    "\n",
    "Run the cell and inspect the output. Can you find any meaningful or interesting relations between the word vectors (their angles)? For example, how do the two groups (cow, bull, calf) and (woman, man, child) relate to each other?\n",
    "\n",
    "**NOTE:** *The figure should be dynamic (you should be able to rotate it etc.) If it is static, run the cell above with the line `%matplotlib notebook` again. Then rerun the cell below and it should work.*"
   ]
  },
  {
   "cell_type": "code",
   "execution_count": null,
   "metadata": {},
   "outputs": [],
   "source": [
    "features = {\n",
    "    \"x\": \"human\",\n",
    "    \"y\": \"adult\",\n",
    "    \"z\": \"male\"\n",
    "}\n",
    "\n",
    "# Features are binary; 0 means 'not defined'\n",
    "words = [\n",
    "    (\"child\", [ 1, -1,  0]),\n",
    "    (\"girl\",  [ 1, -1, -1]),\n",
    "    (\"boy\",   [ 1, -1,  1]),\n",
    "    (\"adult\", [ 1,  1,  0]),\n",
    "    (\"woman\", [ 1,  1, -1]),\n",
    "    (\"man\",   [ 1,  1,  1]),\n",
    "    (\"calf\",  [-1, -1,  0]),\n",
    "    (\"bull\",  [-1,  1,  1]),\n",
    "    (\"cow\",   [-1,  1, -1])\n",
    "]\n",
    "\n",
    "plot_utils.plot_3d_binary(features, words)"
   ]
  },
  {
   "cell_type": "markdown",
   "metadata": {},
   "source": [
    "---\n",
    "\n",
    "**Exercise 1.1.1** In the code cell below, analyze and visualize some other set of words using **three** features of your choice. Three features is not a lot, but do your best. We will use more features in the next section.\n",
    "\n",
    "Use a reasonable number of words (for example 6 or more).\n",
    "\n",
    "Remember to define the features for each word in the *same order*. That is, the order should be `[x, y, z]` for all words. Otherwise the output might not make a lot of sense.\n",
    "\n",
    "---"
   ]
  },
  {
   "cell_type": "code",
   "execution_count": null,
   "metadata": {},
   "outputs": [],
   "source": [
    "# Define your own features here. Only change the 'featureN' part\n",
    "# to reflect the feature you are using.\n",
    "features = {\n",
    "    \"x\": \"feature1\",\n",
    "    \"y\": \"feature2\",\n",
    "    \"z\": \"feature3\"\n",
    "}\n",
    "\n",
    "# Define your words and their feature vectors here\n",
    "words = [\n",
    "    (\"word\", [0, 0, 0]) \n",
    "]\n",
    "\n",
    "plot_utils.plot_3d_binary(features, words)"
   ]
  },
  {
   "cell_type": "markdown",
   "metadata": {},
   "source": [
    "### Section 1.2: Semantic feature analysis with more features\n",
    "\n",
    "---\n",
    "\n",
    "The restriction on the number of features to three is clearly too strict. In reality we need many more features to fully analyze even a small number of words. In this section we get rid of this limitation.\n",
    "\n",
    "Below you can see an example from the slides again (slide 10). In this case we have 7 features (*individual*, *team*, *indoors*, *outdoors*, *board game*, *card game*, *kid's game*). Consequently the embeddings (vectors) reside in a 7-dimensional vector space. \n",
    "\n",
    "As you might imagine, visualizing 7-dimensional vectors requires some extra work. In the slides we quickly heard about *dimensionality reduction*. In this example, we reduce the dimensionality of the data to 2 or 3 dimensions, so that we can plot it using conventional methods. It suffices to say here that the dimensionality reduction method we use is **Principal component analysis** (PCA). \n",
    "\n",
    "*If you are interested, you can read more about PCA [in this visual explanation](http://setosa.io/ev/principal-component-analysis/) or in [Wikipedia](https://en.wikipedia.org/wiki/Principal_component_analysis). This is completely optional and beyond the scope of this course. Especially the Wikipedia article requires substantial mathematical knowledge.*\n",
    "\n",
    "Because the dimensionality of the original vectors is high and we need to perform PCA on them, the resulting 2 or 3 dimensions do not necessarily correspond to any of our original features. Because of this, we cannot name the axes in the figures anymore, and so the function we use in this section doesn't require the `features` dictionary as an argument. \n",
    "\n",
    "The functions we use here are `plot_2d_binary_hd` and `plot_3d_binary_hd` (`hd` for high-dimensional). The `2d` function plots a 2D graph and the `3d` version plots a 3D graph like the one we saw above. In addition, you can control whether the vectors are plotted as dots or arrows using the boolean argument `arrows`.\n",
    "\n",
    "Again, run the code cell below and inspect the output. Does it make sense?"
   ]
  },
  {
   "cell_type": "code",
   "execution_count": null,
   "metadata": {},
   "outputs": [],
   "source": [
    "# features: (1) individual, (2) team, (3) indoors, \n",
    "#           (4) outdoors, (5) board game,\n",
    "#           (6) card game, (7) kid's game\n",
    "\n",
    "words = [         #  (1) (2) (3) (4) (5) (6) (7)\n",
    "    (\"football\",    [-1,  1, -1,  1, -1, -1,  0]),\n",
    "    (\"marbles\",     [ 1, -1,  1,  1, -1, -1,  1]),\n",
    "    (\"tag\",         [ 1,  1, -1,  1, -1, -1,  1]),\n",
    "    (\"hide&seek\",   [ 1,  1, -1,  1, -1, -1,  1]),\n",
    "    (\"scrabble\",    [ 1,  1,  1, -1,  1, -1,  0]),\n",
    "    (\"candyland\",   [ 1, -1,  1, -1,  1, -1,  1]),\n",
    "    (\"video_games\", [ 1,  0,  1, -1, -1, -1,  0]),\n",
    "    (\"hop_scotch\",  [ 1,  1, -1,  1, -1, -1,  1]),\n",
    "    (\"checkers\",    [ 1,  0,  1, -1,  1, -1,  1]),\n",
    "    (\"golf\",        [ 1, -1, -1,  1, -1, -1,  1]),\n",
    "    (\"old_maid\",    [ 1, -1,  1, -1, -1,  1,  1]),\n",
    "]\n",
    "\n",
    "plot_utils.plot_2d_binary_hd(words, arrows=False)\n",
    "plot_utils.plot_3d_binary_hd(words, arrows=True)"
   ]
  },
  {
   "cell_type": "markdown",
   "metadata": {},
   "source": [
    "---\n",
    "\n",
    "**Exercise 1.2.1** In the code cell below, analyze and visualize some other set of words using any number (with n > 3) of features of your choice. You can try out different analyses with a variable number of features. Just remember that in a single run all vectors must contain the same number of features.\n",
    "\n",
    "Use a reasonable number of words (for example 6 or more).\n",
    "\n",
    "Again, remember to define the features for each word in the *same order*. That is, the order should be `[f1, f2, f3, ..., fn]` for all words. Otherwise the output might not make a lot of sense.\n",
    "\n",
    "---"
   ]
  },
  {
   "cell_type": "code",
   "execution_count": null,
   "metadata": {},
   "outputs": [],
   "source": [
    "# you can use any number of features here\n",
    "words = [\n",
    "    (\"word1\", [0, 0, 0, 0, 0, 0, 0, 0])\n",
    "]\n",
    "\n",
    "plot_utils.plot_2d_binary_hd(words, arrows=False)\n",
    "plot_utils.plot_3d_binary_hd(words, arrows=True)"
   ]
  },
  {
   "cell_type": "markdown",
   "metadata": {},
   "source": [
    "You can now move on to Part 2."
   ]
  }
 ],
 "metadata": {
  "kernelspec": {
   "display_name": "Python 3",
   "language": "python",
   "name": "python3"
  },
  "language_info": {
   "codemirror_mode": {
    "name": "ipython",
    "version": 3
   },
   "file_extension": ".py",
   "mimetype": "text/x-python",
   "name": "python",
   "nbconvert_exporter": "python",
   "pygments_lexer": "ipython3",
   "version": "3.6.5"
  }
 },
 "nbformat": 4,
 "nbformat_minor": 2
}
