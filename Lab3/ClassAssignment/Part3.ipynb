{
 "cells": [
  {
   "cell_type": "markdown",
   "metadata": {},
   "source": [
    "# Semantics and Pragmatics, KIK-LG103\n",
    "\n",
    "## Lab session 3, Part 3\n",
    "\n",
    "---\n",
    "\n",
    "In this part we will learn how to perform basic vector algebra in Python. The part covers things like addition, subtraction, (scalar) multiplication and division. Understanding these things prepares you for the next part, in which we will learn about compositional semantics. You will also learn how to efficiently represent and manipulate vectors in Python.\n",
    "\n",
    "### Section 3.1: Vectors as Python lists\n",
    "\n",
    "Manipulating vectors in vanilla Python is slow, frustrating, and cumbersome. Let's consider the vector addition, using Python lists to represent vectors:\n",
    "\n",
    "    [1, 2, 3] + [4, 5, 6]\n",
    "\n",
    "Unfortunately, running the addition above does not give us the result we are looking for. Run the code cell below to see what happens."
   ]
  },
  {
   "cell_type": "code",
   "execution_count": null,
   "metadata": {},
   "outputs": [],
   "source": [
    "print([1, 2, 3] + [4, 5, 6])"
   ]
  },
  {
   "cell_type": "markdown",
   "metadata": {},
   "source": [
    "The operator `+` concatenates the two lists. We will need to explicitly add together the elements in the lists to get the correct result. Two ways of doing this are shown in the code cells below."
   ]
  },
  {
   "cell_type": "code",
   "execution_count": null,
   "metadata": {},
   "outputs": [],
   "source": [
    "# This code only works for lists of length 3\n",
    "a = [1, 2, 3]\n",
    "b = [4, 5, 6]\n",
    "\n",
    "a[0] = a[0] + b[0] # Or a[0] += b[0]\n",
    "a[1] = a[1] + b[1]\n",
    "a[2] = a[2] + b[2]\n",
    "\n",
    "print(a)"
   ]
  },
  {
   "cell_type": "code",
   "execution_count": null,
   "metadata": {},
   "outputs": [],
   "source": [
    "# This code works for lists of any length\n",
    "a = [0, 1, 2, 3]\n",
    "b = [4, 5, 6, 7]\n",
    "\n",
    "list_length = len(a)\n",
    "\n",
    "# 'range(n)' returns the numbers (0, ..., n - 1)\n",
    "for i in range(list_length): \n",
    "    a[i] = a[i] + b[i]   # Or a[i] += b[i]\n",
    "    \n",
    "print(a)"
   ]
  },
  {
   "cell_type": "markdown",
   "metadata": {},
   "source": [
    "We could define a function `add` that takes vectors as arguments and returns the result of the addition, which would be an improvement. Still, there are many things we want to do with vectors, and implementing all of them would be tiresome work. \n",
    "\n",
    "Implementing convenient functions would also not change the fact that manipulating Python lists is often prohibitively slow. When you're working with a few hundred or thousand elements in a list, you might not need to worry about performance, but implementing something like the W2V embeddings we saw in the last part, where in the training phase we need to perform billions of operations, would be practically impossible with Python lists.\n",
    "\n",
    "Fortunately there is a standard solution to all of these problems. The solution is a high-performance scientific computing library called **NumPy**.\n",
    "\n",
    "### Section 3.2: NumPy arrays\n",
    "\n",
    "First, let's import NumPy. A common practice is to abbreviate `numpy` to `np`."
   ]
  },
  {
   "cell_type": "code",
   "execution_count": null,
   "metadata": {},
   "outputs": [],
   "source": [
    "import numpy as np"
   ]
  },
  {
   "cell_type": "markdown",
   "metadata": {},
   "source": [
    "For our purposes NumPy offer two interesting things: \n",
    "\n",
    "1. **Array:** An efficient data structure for representing vectors \n",
    "2. **Array functions:** Efficient functions for all the basic things you want to do with vectors\n",
    "\n",
    "**Note:** *NumPy offers much more functionality than we can go through here. To get an in-depth treatment you can see the [NumPy User Guide](https://docs.scipy.org/doc/numpy/user/). As always, reading this is completely optional.*\n",
    "\n",
    "Let's start by investigating the NumPy array.\n",
    "\n",
    "A NumPy array can be created in many different ways. The code cell below shows a few of them. One way is to turn a Python list into an array *(1)*. The syntax for this is:\n",
    "    \n",
    "    a = np.array(python_list_here)\n",
    "    \n",
    "NumPy also offers different functions for creating certain types of arrays *(2, 3)*. `np.ones(n)` creates an array of ones with length `n`. `np.zeros(n)` creates an array of zeros with length `n`. "
   ]
  },
  {
   "cell_type": "code",
   "execution_count": null,
   "metadata": {},
   "outputs": [],
   "source": [
    "# 1\n",
    "a = np.array([1, 2, 3, 4])\n",
    "print(\"Python list to array:\", a)\n",
    "\n",
    "# 2\n",
    "b = np.ones(5)\n",
    "print(\"Array of ones:\", b)\n",
    "\n",
    "# 3\n",
    "c = np.zeros(10)\n",
    "print(\"Array of zeros:\", c)"
   ]
  },
  {
   "cell_type": "markdown",
   "metadata": {},
   "source": [
    "As you can see, the output of the prints doesn't differ much from the regular Python lists. One thing you might notice is that the functions `ones` and `zeros` use floating point (decimal) numbers by default, so the numbers are `1.` and `0.` instead of `1` and `0`. \n",
    "\n",
    "*Note: `1.` and `0.` mean `1.0` and `0.0`, the zero is left out in the output.*\n",
    "\n",
    "We can also access and change elements in the arrays with the same indexing notation we learned for Python lists."
   ]
  },
  {
   "cell_type": "code",
   "execution_count": null,
   "metadata": {},
   "outputs": [],
   "source": [
    "d = np.array([1, 1, 2, 3, 5, 8])\n",
    "print(\"The original array:\", d)\n",
    "print(\"The fourth element of the original array:\", d[3])\n",
    "\n",
    "d[3] = 0 \n",
    "print(\"The changed array:\", d)\n",
    "print(\"The fourth element of the changed array:\", d[3])"
   ]
  },
  {
   "cell_type": "markdown",
   "metadata": {},
   "source": [
    "---\n",
    "\n",
    "**Exercise 3.2.1** Create an array of zeros (a zero-vector) of length 5 using the function `zeros`. Change the last element to 1. Now create the same array using a Python list and and the function `np.array`.\n",
    "\n",
    "---"
   ]
  },
  {
   "cell_type": "code",
   "execution_count": null,
   "metadata": {},
   "outputs": [],
   "source": []
  },
  {
   "cell_type": "markdown",
   "metadata": {},
   "source": [
    "### Section 3.3: Functions on NumPy arrays"
   ]
  },
  {
   "cell_type": "markdown",
   "metadata": {},
   "source": [
    "Now we will come to the most exiting thing about NumPy arrays. In the first section of this part we introduced the problem of vector addition. How does it work in numpy? The code cell below illustrates this."
   ]
  },
  {
   "cell_type": "code",
   "execution_count": null,
   "metadata": {},
   "outputs": [],
   "source": [
    "v1 = np.ones(5)\n",
    "v2 = np.ones(5)\n",
    "\n",
    "v3 = v1 + v2\n",
    "\n",
    "print(\"Vector 1:\", v1)\n",
    "print(\"Vector 2:\", v2)\n",
    "print(\"Vectors 1 and 2 added together:\", v3)"
   ]
  },
  {
   "cell_type": "markdown",
   "metadata": {},
   "source": [
    "As you can see, the `+` operator no longer means 'concatenation', but gives us the result we wanted. Many other operators exhibit intuitive behavior when used with NumPy arrays. See the code cells below and make sure you understand what is happening at each line, and why the result is what it is.\n",
    "\n",
    "**1: Subtraction**"
   ]
  },
  {
   "cell_type": "code",
   "execution_count": null,
   "metadata": {},
   "outputs": [],
   "source": [
    "a = np.array([2, 1, 4])\n",
    "b = np.array([1, 2, 3])\n",
    "\n",
    "print(\"a:\", a)\n",
    "print(\"b:\", b)\n",
    "\n",
    "print(\"Subtraction (a-b):\", a-b)                 # ==> [2-1, 1-2, 4-3]"
   ]
  },
  {
   "cell_type": "markdown",
   "metadata": {},
   "source": [
    "**2. Element-wise multiplication and division**"
   ]
  },
  {
   "cell_type": "code",
   "execution_count": null,
   "metadata": {},
   "outputs": [],
   "source": [
    "print(\"Element-wise multiplication (a*b):\", a*b)  # ==> [2*1, 1*2, 4*3]\n",
    "print(\"Element-wise division (a/b):\", a/b)        # ==> [2/1, 1/2, 4/3]"
   ]
  },
  {
   "cell_type": "markdown",
   "metadata": {},
   "source": [
    "**3. Scalar multiplication and division**"
   ]
  },
  {
   "cell_type": "code",
   "execution_count": null,
   "metadata": {},
   "outputs": [],
   "source": [
    "scalar = 5\n",
    "print(\"Scalar multiplication (5*a):\", 5*a)        # ==> [5*2, 5*1, 5*4]\n",
    "print(\"Scalar division (a/5):\", a/5)              # ==> [2/5, 1/5, 4/5]"
   ]
  },
  {
   "cell_type": "markdown",
   "metadata": {},
   "source": [
    "---\n",
    "\n",
    "**Exercise 3.3.1** Create the following two arrays: `[3, 4, 5]`, `[1., 1., 1.]`. Subtract the second array from the first. Now find two different arrays that give you the same result when added together.\n",
    "\n",
    "---"
   ]
  },
  {
   "cell_type": "code",
   "execution_count": null,
   "metadata": {},
   "outputs": [],
   "source": [
    "# Exercise 3.3.1 here"
   ]
  },
  {
   "cell_type": "markdown",
   "metadata": {},
   "source": [
    "---\n",
    "\n",
    "**Exercise 3.3.2** You can also perform multiple operations on vectors in the same expression, just like with numbers. Just like you can write `3 + 5*2 = 13`, you can write `a + b*c = d`, for some vectors `a`, `b`, `c`, and `d`.\n",
    "\n",
    "Create three arrays `v1`, `v2`, and `v3` of your own choice. The arrays should be of same length. Now add the arrays `v1` and `v2` together, and element-wise divide the result of the addition by `v3` scaled up by `2` (that is, multiplied by the scalar `2`). Note that this division might restrict your choice for `v3` if you want to get sensible result.\n",
    "\n",
    "---"
   ]
  },
  {
   "cell_type": "code",
   "execution_count": null,
   "metadata": {},
   "outputs": [],
   "source": []
  },
  {
   "cell_type": "markdown",
   "metadata": {},
   "source": [
    "---\n",
    "\n",
    "**Exercise 3.3.3** Create 5 vectors of your choice and calculate the average vector. Each element in the final vector should be an average of the elements in the same position in the original vectors.\n",
    "\n",
    "---"
   ]
  },
  {
   "cell_type": "code",
   "execution_count": null,
   "metadata": {},
   "outputs": [],
   "source": []
  },
  {
   "cell_type": "markdown",
   "metadata": {},
   "source": [
    "You can now move on to Part 4."
   ]
  }
 ],
 "metadata": {
  "kernelspec": {
   "display_name": "Python 3",
   "language": "python",
   "name": "python3"
  },
  "language_info": {
   "codemirror_mode": {
    "name": "ipython",
    "version": 3
   },
   "file_extension": ".py",
   "mimetype": "text/x-python",
   "name": "python",
   "nbconvert_exporter": "python",
   "pygments_lexer": "ipython3",
   "version": "3.6.5"
  }
 },
 "nbformat": 4,
 "nbformat_minor": 2
}
