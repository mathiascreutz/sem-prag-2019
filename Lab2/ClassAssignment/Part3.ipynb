{
 "cells": [
  {
   "cell_type": "markdown",
   "metadata": {},
   "source": [
    "# Semantics and Pragmatics, KIK-LG103\n",
    "\n",
    "## Lab session 2, Part 3\n",
    "\n",
    "---\n",
    "\n",
    "This part of the class assignment might be hard for you if you have no previous experience in computer programming. But who wouldn't like a little challenge? \n",
    "\n",
    "If, however, you feel overwhelmed, don't take it too seriously. If you do not understand, you can find consolation in the fact that the home assigment is based only on Parts 1 and 2 of this lab.\n",
    "\n",
    "Before you begin, remember to import WordNet:"
   ]
  },
  {
   "cell_type": "code",
   "execution_count": null,
   "metadata": {},
   "outputs": [],
   "source": [
    "from nltk.corpus import wordnet as wn"
   ]
  },
  {
   "cell_type": "markdown",
   "metadata": {},
   "source": [
    "### Section 3.1: The Lesk algorithm\n",
    "---\n",
    "\n",
    "If you need a refresher on the Lesk algorithm, you can find a description in the lecture slides.\n",
    "\n",
    "Here is a pseudocode/plain text representation for running Simplified Lesk on a single word:\n",
    "\n",
    "```\n",
    "target = target word for disambiguation                                  (1)\n",
    "context = context words for disambiguation                                |\n",
    "\n",
    "for all senses of target word                                            (2)\n",
    "    words_definition = words from the definition of the sense            (3)\n",
    "    words_examples = words from the example sentences of the sense        |\n",
    "    \n",
    "    overlap = calculate vocabulary overlap between                       (4)\n",
    "              context and definition/examples                             |\n",
    "    \n",
    "    if overlap is higher than before                                     (5)\n",
    "        rembember current sense as the best option                        |\n",
    "```\n",
    "\n",
    "---\n",
    "\n",
    "**Exercise 3.1.1** Let's implement the algorithm one step at a time. The numbers on the right hand side of the pseudocode mark the lines corresponding to each step of this exercise.\n",
    "\n",
    "---\n",
    "\n",
    "**Step 1.** In the first two lines of our pseudocode we initialize the target word we want to disambiguate as well as the context we will use. Your first task is to assign values to these two variables. Use the sentence \"*time flies like an arrow*\" and disambiguate the word \"*time*\". In the code cell below, assign to the variable `target` the string \"time\". Also assign to the variable `context`  the context words as a Python set. You can find examples of how to do this in the review section of Part 1.\n",
    "\n",
    "\n",
    "**Step 2.** The next step in the algorithm is to go through all the senses of the target word. Remember, you can access all the senses (synsets) of the word with `wn.synsets(word)`. The function returns a list containing all the synset objects. The`for`-loop for iterating through the senses is already given. To make sure you got this right, you can print out the synset objects. The output should look something like this:\n",
    "\n",
    "    Synset('time.n.01')\n",
    "    Synset('time.n.02')\n",
    "        .  .  .\n",
    "            \n",
    "**Step 3.** You now need to gather the words in the sense definition and the examples of the sense, so we can compare them to the context words. Recall the two methods of the Synset object we saw before, `definition()` and `examples()`. We have actually already extracted the words from the examples for you so what is left is the definition. We also combine the two sets of words using a method `union` offered by the set class.\n",
    "\n",
    "**Step 4.** In the fourth step you need to calculate the overlap between the context and the definition/examples. The set-class offers another convenient function, `a.intersection(b)`, which returns the set of overlapping elements of the sets `a` and `b`. After you have the set of common words, you can calculate its length using the familiar `len`-function.\n",
    "\n",
    "**Step 5.** In the final step you need to compare this overlap to the previous overlaps. For this we initialized the variables `best_sense` an `best_overlap` for you at the start of the code cell. If the current overlap is greater than `best_overlap`, assign the current sense to the `best_sense` variable and update the `best_overlap` variable to keep track of the best one this far. Use the supplied `if`-statement for this.\n",
    "\n",
    "\n",
    "You can now uncomment the `print`-statement on the final line of the code cell to check the correctness of you algorithm. The output of the cell should be:\n",
    "\n",
    "    time.n.01 an instance or single occasion for some event\n",
    "    \n",
    "Feel free to play around with different target words and sentences by changing the variables `target` and `sentence`. How well does the algorithm work?"
   ]
  },
  {
   "cell_type": "code",
   "execution_count": null,
   "metadata": {
    "hide_input": false
   },
   "outputs": [],
   "source": [
    "# We need these variables in the fifth step.\n",
    "# Don't worry about until then.\n",
    "best_sense = None\n",
    "best_overlap = -1\n",
    "\n",
    "\n",
    "# Step 1. TODO: Initialize target word and context here.\n",
    "# 'context' should be a set containing the words in 'sentence'\n",
    "target = \"\"\n",
    "sentence = \"time flies like an arrow\"\n",
    "context = set()\n",
    "\n",
    "\n",
    "# Step 2. TODO: Get the list of senses using wn.synsets()\n",
    "senses = []\n",
    "\n",
    "# Iterate through all the senses using a for-loop\n",
    "for sense in senses:\n",
    "    # You can print out the 'sense' objects here to \n",
    "    # check correctness of step 2. You can comment this\n",
    "    # out when you are finished with this step to declutter\n",
    "    # the output\n",
    "    print(sense)\n",
    "    \n",
    "\n",
    "    # Step 3. TODO: Retrieve the definition of the \n",
    "    # sense under consideration and turn it into a list\n",
    "    definition_as_string = \"\"\n",
    "    definition_as_list = []\n",
    "    # Step 3. TODO: Represent the words as a set\n",
    "    words_in_definition = set()\n",
    "    \n",
    "    # Here we give you the words in the examples\n",
    "    words_in_examples = set(\" \".join(sense.examples()).split())\n",
    "    # And here we combine the two sets of words\n",
    "    words_in_both = words_in_definition.union(words_in_examples)\n",
    "    \n",
    "    \n",
    "    # Step 4. TODO: Use the 'intersection' method here to get the\n",
    "    # common words in 'context' and 'words_in_both'. See how \n",
    "    # the 'union' method was used above. The intersection\n",
    "    # works in a similar way.\n",
    "    words_overlapping = set() \n",
    "    \n",
    "    # Step 4. TODO: Use the 'len' function to calculate the number of\n",
    "    # overlapping words and assign the number to the variable 'overlap'\n",
    "    overlap = -1\n",
    "    \n",
    "    \n",
    "    if overlap > best_overlap:\n",
    "        # Step 5 TODO: Update these accordingly\n",
    "        best_sense = None\n",
    "        best_overlap = -1\n",
    "    \n",
    "    \n",
    "# Uncomment the print-statement below when you are done with\n",
    "# steps 1-5 to see if you implemented the calgorithm correctly.\n",
    "\n",
    "# print(target, best_sense.name(), best_sense.definition())"
   ]
  },
  {
   "cell_type": "markdown",
   "metadata": {},
   "source": [
    "###  Section 3.2: Lesk continued\n",
    "\n",
    "---\n",
    "\n",
    "This section contains more advanced material. Again, you do not need to complete this section to understand the homework. Feel free to try out the exercises but don't worry if they seem very difficult.\n",
    "\n",
    "Above we have an implementation of the Lesk-algorithm, but it is relatively cumbersome to use. You can only disambiguate one word in one context at a time. Whenever you change the target and context, you lose the previous results. Let's wrap the algorithm into a nicer form so that we can use it in more interesting ways.\n",
    "\n",
    "\n",
    "Probably the first thing we want to do is to wrap the code above into a single function. Let's call this function `disambiguate_word`. The function should take in a target word and the context words as arguments, and return the (correct) sense for the word. \n",
    "\n",
    "---\n",
    "\n",
    "**Exercise 3.2.1** Wrap the implementation above into a function `disambiguate_word`. This should be relatively straight-forward. Copy everything except the `target`, `sentence`, and `context` variables into a function definition, and add a `return` statement where you return the best synset for the word.\n",
    "\n",
    "---"
   ]
  },
  {
   "cell_type": "code",
   "execution_count": null,
   "metadata": {},
   "outputs": [],
   "source": [
    "# Disambiguation function\n",
    "def disambiguate_word(target, context):\n",
    "    # Function body here\n",
    "    return None"
   ]
  },
  {
   "cell_type": "markdown",
   "metadata": {},
   "source": [
    "Now that you have a nice function for disambiguating one word, it is easy to disambiguate all the words in a sentence, if you like. Initialize a variable containing a sentence as a list of strings and another variable that contains the set of words in the sentence. You can iterate through the sentence with a `for`-loop and disambiguate each word. Remember that the function returns a synset object so you can print out the disambiguated sense using `sense.name()` and `sense.definition()`."
   ]
  },
  {
   "cell_type": "code",
   "execution_count": null,
   "metadata": {},
   "outputs": [],
   "source": [
    "# Try disambiguating whole sentences here"
   ]
  },
  {
   "cell_type": "markdown",
   "metadata": {},
   "source": [
    "Certainly this is already much more convenient. You might already guess what the next step will be. We still need to manually define the context and write a `for`-loop for every sentence we want to disambiguate. Let's get rid of this nuisance.\n",
    "\n",
    "---\n",
    "\n",
    "**Exercise 3.2.2** Implement a function `disambiguate_sentence` that takes in a sentence as string as an argument and returns a list of synset object containing all the words disambiguated. Whatever you did in the code cell above, going through the sentence with a for-loop and so on, should be done inside the function. \n",
    "\n",
    "Because you want to return multiple synsets, you need to gather them somehow into a list. This can be done using the `append`-method of Python lists. You can initialize an empty list and append the best sense for each word like this:\n",
    "\n",
    "    sense_list = []\n",
    "    \n",
    "    # Let's assume 'context' and 'sentence' were defined somewhere\n",
    "    for word in sentence:\n",
    "        best_sense = disambiguate_word(word, context)\n",
    "        sense_list.append(best_sense)\n",
    "        \n",
    "    . . .\n",
    "\n",
    "You can also simply print out the sense names/definitions if you don't want the function to return a list.\n",
    "\n",
    "---"
   ]
  },
  {
   "cell_type": "code",
   "execution_count": null,
   "metadata": {},
   "outputs": [],
   "source": [
    "def disambiguate_sentence(sentence):\n",
    "    return []"
   ]
  },
  {
   "cell_type": "markdown",
   "metadata": {},
   "source": [
    "---\n",
    "\n",
    "**Exercise 3.2.3**\n",
    "\n",
    "Finally, feel free to implement another version of the Lesk algorithm. The simplified version you implemented above only considers the words of the sentence as context. In another version of the algorithm, the context is taken to be the **WordNet entries** (definitions and examples) of the words in the sentence.\n",
    "\n",
    "In other words, you need to go through all the senses of all the words in the sentence, and gather the vocabulary from the definitions and examples of all these senses into one set. This set is then used as a context for disambiguation.\n",
    "\n",
    "---"
   ]
  },
  {
   "cell_type": "code",
   "execution_count": null,
   "metadata": {},
   "outputs": [],
   "source": [
    "# New version here"
   ]
  },
  {
   "cell_type": "markdown",
   "metadata": {},
   "source": [
    "When you are done, you can continue with the home assignment."
   ]
  }
 ],
 "metadata": {
  "kernelspec": {
   "display_name": "Python 3",
   "language": "python",
   "name": "python3"
  },
  "language_info": {
   "codemirror_mode": {
    "name": "ipython",
    "version": 3
   },
   "file_extension": ".py",
   "mimetype": "text/x-python",
   "name": "python",
   "nbconvert_exporter": "python",
   "pygments_lexer": "ipython3",
   "version": "3.6.5"
  }
 },
 "nbformat": 4,
 "nbformat_minor": 2
}
