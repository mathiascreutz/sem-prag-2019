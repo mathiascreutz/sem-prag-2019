{
 "cells": [
  {
   "cell_type": "markdown",
   "metadata": {},
   "source": [
    "# Semantics and Pragmatics, KIK-LG103\n",
    "\n",
    "## Lab session 2, Part 2\n",
    "\n",
    "---\n",
    "\n",
    "In this second part of the lab we will see how to use WordNet with Python. We will explore the lexical relations we saw during the first lecture and homework and play around with the WordNet hierarchy. "
   ]
  },
  {
   "cell_type": "markdown",
   "metadata": {},
   "source": [
    "### Section 2.1: Accessing word senses in WordNet\n",
    "---\n",
    "To use WordNet in Python we need to import it. The idiomatic way of doing this is abbreviating `wordnet` to `wn` using the `as`-command. This is done simply for convenience. We can now access the contents of WordNet by using dot-notation: `wn.some_function()`"
   ]
  },
  {
   "cell_type": "code",
   "execution_count": null,
   "metadata": {},
   "outputs": [],
   "source": [
    "from nltk.corpus import wordnet as wn"
   ]
  },
  {
   "cell_type": "markdown",
   "metadata": {},
   "source": [
    "In this section we will cover a fundamental part of the `wordnet` module, the `Synset` class.\n",
    "\n",
    "So what is the **Synset** (synonym set) class? What is called a class in Python is a pre-defined data structure. `Synset` represents one specific sense or meaning, and contains the sense's definition, examples of the sense and and all the words (lemmas) that can have the sense. Let's go through a few examples to see `Synsets` in action.\n",
    "\n",
    "First of all, to get all the senses (Synsets) of a word, we can use the function `wn.synsets(word)`. The function returns a list of `Synset` objects for the word."
   ]
  },
  {
   "cell_type": "code",
   "execution_count": null,
   "metadata": {
    "scrolled": true
   },
   "outputs": [],
   "source": [
    "synsets = wn.synsets(\"dog\")\n",
    "print(synsets)"
   ]
  },
  {
   "cell_type": "markdown",
   "metadata": {},
   "source": [
    "Let's pick the first synset from the list and see how we can access the definition and other things about it. The `name`-method returns the identifier of the sense. The method `definition` returns a string containing the definition of the sense, and the `examples`-method returns a list of example sentences illustrating its usage."
   ]
  },
  {
   "cell_type": "code",
   "execution_count": null,
   "metadata": {
    "scrolled": true
   },
   "outputs": [],
   "source": [
    "all_synsets = wn.synsets(\"dog\") # wn.synsets returns a list of synsets\n",
    "first_synset = all_synsets[0]   # first synset has index 0 \n",
    "\n",
    "print(\"Synset name:\")\n",
    "print(first_synset.name())\n",
    "print()\n",
    "print(\"Synset definition:\")\n",
    "print(first_synset.definition())\n",
    "print()\n",
    "print(\"Example sentences:\")\n",
    "print(first_synset.examples())"
   ]
  },
  {
   "cell_type": "markdown",
   "metadata": {},
   "source": [
    "---\n",
    "\n",
    "**Exercise 2.1.1** Write a `for`-loop that iterates through the synsets returned by the `wn.synsets`-function for a word of your choice. For each sense, print out the name and the definition of the sense.\n",
    "\n",
    "---"
   ]
  },
  {
   "cell_type": "code",
   "execution_count": null,
   "metadata": {},
   "outputs": [],
   "source": [
    "# Iterate through word senses here"
   ]
  },
  {
   "cell_type": "markdown",
   "metadata": {},
   "source": [
    "We will now introduce two more methods of the `Synset` class: `lemma_names` and `lemmas`. \n",
    "\n",
    "The `lemma_names` method is straight-forward. It returns a list of strings containing the lemmas that have the sense. The `lemmas` method, however, returns a list of objects of another class, called `Lemma`. The lemma objects are nothing but pairings of words and word senses (synsets). \n",
    "\n",
    "See the code below for illustration."
   ]
  },
  {
   "cell_type": "code",
   "execution_count": null,
   "metadata": {
    "scrolled": true
   },
   "outputs": [],
   "source": [
    "# Let's retrieve all the senses for the word 'apple'\n",
    "ss = wn.synsets(\"apple\")\n",
    "print(\"The word apple has\", len(ss), \"senses in WordNet.\")\n",
    "\n",
    "# Next we'll pick the second sense and print out\n",
    "# its definition with the familiar method\n",
    "sense = ss[1]\n",
    "print(sense.name())\n",
    "print(sense.definition())\n",
    "\n",
    "# Now let's use the two new methods. sense.lemma_names()\n",
    "# returns a list of words as strings..\n",
    "names = sense.lemma_names()\n",
    "print(names)\n",
    "\n",
    "# ..and sense.lemmas() returns the lemma objects\n",
    "lemmas = sense.lemmas()\n",
    "print(lemmas)"
   ]
  },
  {
   "cell_type": "markdown",
   "metadata": {},
   "source": [
    "You can see the connections between synsets, lemmas (as words) and the lemma objects in the output of the cell. The names of the lemma objects (e.g. `apple.n.02.apple`) are the name of the synset to which they belong (`apple.n.02`) suffixed with the appropriate word (`apple`)."
   ]
  },
  {
   "cell_type": "markdown",
   "metadata": {},
   "source": [
    "---\n",
    "\n",
    "**Exercise 2.1.2** Retrieve all the senses of the word *table*. How many senses does the word have? Explore some of the definitions and examples of the senses using the methods `definitions` and `examples`. Print out all the lemma names (method `lemma_names`) of a sense of your choice.\n",
    "\n",
    "---"
   ]
  },
  {
   "cell_type": "code",
   "execution_count": null,
   "metadata": {},
   "outputs": [],
   "source": [
    "# Senses of the word \"table\" here"
   ]
  },
  {
   "cell_type": "markdown",
   "metadata": {},
   "source": [
    "---\n",
    "### Section 2.2: Hyponyms and Hypernyms\n",
    "---\n",
    "\n",
    "As you might recall from the first lecture, the hypo-hypernym relation is one of sub- and superordinates. A word A is a hyponym of word B if A is a *subclass* of B (for example *mango* is a hyponym of *fruit*). Conversely, B is a hypernym of A if B *subsumes* A (for example *furniture* is a hypernym of *table*).\n",
    "\n",
    "Below we pick one sense of the word *human*, retrieve its hypo- and hypernyms, and print out the relevant information. The methods `hyponyms` and `hypernyms` return lists containing the appropriate synsets."
   ]
  },
  {
   "cell_type": "code",
   "execution_count": null,
   "metadata": {
    "scrolled": true
   },
   "outputs": [],
   "source": [
    "sense = wn.synsets(\"human\")[0]\n",
    "print(sense.name(), sense.definition())\n",
    "\n",
    "hyponyms = sense.hyponyms()\n",
    "print(hyponyms)\n",
    "\n",
    "hypernyms = sense.hypernyms()\n",
    "print(hypernyms)"
   ]
  },
  {
   "cell_type": "markdown",
   "metadata": {},
   "source": [
    "In the first homework assignment we created new sentences by replacing words with their hypernyms. Let's recreate the exercise here.\n",
    "\n",
    "---\n",
    "\n",
    "**Exercise 2.2.1.** Your task is to print out versions of the phrases where you have replaced each word with one of its hypernyms. We have supplied you with some code below. You should complete the following steps:\n",
    "\n",
    "    1. Go through all the words in the phrase.\n",
    "    2. Retrieve the senses of the word (function: wn.synsets()) and pick the first synset\n",
    "    3. Retrieve the hypernyms of the sense (method: sense.hypernyms()) and pick the first synset\n",
    "    4. Retrieve the lemma names of the sense (method: sense.lemma_names()) and pick the first name\n",
    "\n",
    "---"
   ]
  },
  {
   "cell_type": "code",
   "execution_count": null,
   "metadata": {},
   "outputs": [],
   "source": [
    "phrase1 = \"a fast animal\".split()\n",
    "phrase2 = \"ape kingdom\".split()\n",
    "\n",
    "# Step 1 is already done here\n",
    "for word in phrase1:\n",
    "    # This if-statement makes sure you will see no errors\n",
    "    # when a supplied word doesn't have any senses in WordNet\n",
    "    if len(wn.synsets(word)) == 0:\n",
    "        print(word)\n",
    "        continue\n",
    "        \n",
    "    # Step 2. Retrieve the first sense of the word\n",
    "    senses = None\n",
    "    first_sense = None\n",
    "    \n",
    "    # Step 3. Retrieve the first hypernym of the sense\n",
    "    hypernyms = None\n",
    "    first_hypernym = None\n",
    "    \n",
    "    # Step 4. Retrieve the first lemma name of the hypernym\n",
    "    lemma_names = None\n",
    "    first_lemma = None\n",
    "    \n",
    "    print(first_lemma)"
   ]
  },
  {
   "cell_type": "markdown",
   "metadata": {},
   "source": [
    "---\n",
    "\n",
    "## Section 2.3: Holonyms and Meronyms\n",
    "\n",
    "---\n",
    "\n",
    "Recall again from the lecture that holo-/meronymy indicates a part-whole relation. In the slides we saw the example:\n",
    "\n",
    "    Wheel is a meronym of car, and car is a holonym of wheel. \n",
    "\n",
    "WordNet actually divides this relation into three different categories: *part*, *substance* and *member holo-/meronymy*. The example above illustrates the part relation. *Wheels* are a part of a *car*. In the substance relation one thing is *made of* another. For example, a *Bloody Mary* is made of *Vodka*. Finally, in the membership relation a collection of one type of entities forms (a part of) another entity (for example a *family* is formed by *parents* and *children*).\n",
    "\n",
    "Below you see a table listing the methods the WordNet interface offers. All of the methods return a list of synsets.\n",
    "\n",
    "|type|meronym method|holonym method|\n",
    "|---|---|---|\n",
    "|part|sense.part_meronyms()|sense.part_holonyms()|\n",
    "|substance|sense.substance_meronyms()|sense.substance_holonyms()|\n",
    "|member|sense.member_meronyms()|sense.member_holonyms()|\n",
    "\n",
    "---\n",
    "\n",
    "**Exercise 2.3.1.** Your task is to play around with the holonym and meronym methods listed above. Use the synsets of some nouns of your own choice.\n",
    "\n",
    "---"
   ]
  },
  {
   "cell_type": "code",
   "execution_count": null,
   "metadata": {},
   "outputs": [],
   "source": [
    "# Holonyms and meronyms go here"
   ]
  },
  {
   "cell_type": "markdown",
   "metadata": {},
   "source": [
    "Then move on to Part 3 when you feel ready."
   ]
  }
 ],
 "metadata": {
  "kernelspec": {
   "display_name": "Python 3",
   "language": "python",
   "name": "python3"
  },
  "language_info": {
   "codemirror_mode": {
    "name": "ipython",
    "version": 3
   },
   "file_extension": ".py",
   "mimetype": "text/x-python",
   "name": "python",
   "nbconvert_exporter": "python",
   "pygments_lexer": "ipython3",
   "version": "3.6.5"
  }
 },
 "nbformat": 4,
 "nbformat_minor": 2
}
