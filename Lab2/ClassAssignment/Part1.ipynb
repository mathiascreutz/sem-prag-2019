{
 "cells": [
  {
   "cell_type": "markdown",
   "metadata": {
    "hide_input": false
   },
   "source": [
    "# Semantics and Pragmatics, KIK-LG103\n",
    "\n",
    "## Lab session 2, Part 1\n",
    "\n",
    "---\n",
    "\n",
    "### Section 1.1. Review\n",
    "\n",
    "In this section you can quickly review part of what we did in the last session. Additionally, there is some new stuff. The section consists of example code that you can run (by pressing Ctrl-Enter inside the cell you want to run). You don't have to modify any code in this section.\n",
    "\n",
    "\n",
    "#### Strings and lists\n",
    "\n",
    "- Splitting strings to lists\n",
    "- Iteration through lists\n",
    "- Calculating the length of a list\n",
    "\n",
    "First, let's print a sentence as a string:"
   ]
  },
  {
   "cell_type": "code",
   "execution_count": null,
   "metadata": {},
   "outputs": [],
   "source": [
    "# Assign the sentence to a variable\n",
    "sentence_as_string = \"this is just another string\"\n",
    "print(sentence_as_string)"
   ]
  },
  {
   "cell_type": "markdown",
   "metadata": {},
   "source": [
    "Next, let's split the sentence into a list. Each word in the sentence becomes an element in the list:"
   ]
  },
  {
   "cell_type": "code",
   "execution_count": null,
   "metadata": {},
   "outputs": [],
   "source": [
    "# Split string on whitespace, the result is a list\n",
    "sentence_as_list = sentence_as_string.split()\n",
    "print(sentence_as_list)"
   ]
  },
  {
   "cell_type": "markdown",
   "metadata": {},
   "source": [
    "To know how many elements there are in a list, we use the `len` function. We typically talk about the length of a list. The length is the number of elements in the list."
   ]
  },
  {
   "cell_type": "code",
   "execution_count": null,
   "metadata": {},
   "outputs": [],
   "source": [
    "# len-function returns the length of the list\n",
    "n_tokens = len(sentence_as_list)\n",
    "print(\"The sentence has\", n_tokens, \"tokens.\")"
   ]
  },
  {
   "cell_type": "markdown",
   "metadata": {},
   "source": [
    "We can also determine the length of a string. How does this differ from the length of a list?"
   ]
  },
  {
   "cell_type": "code",
   "execution_count": null,
   "metadata": {},
   "outputs": [],
   "source": [
    "# len-function also returns something for the string. What does it return?\n",
    "len_of_string = len(sentence_as_string)\n",
    "print(\"The length of the sentence as a string is\", len_of_string)"
   ]
  },
  {
   "cell_type": "markdown",
   "metadata": {},
   "source": [
    "Using a `for` loop we can iterate through a list, one element at a time. Here we go through our sentence as a list and print every word in the sentence, one by one:"
   ]
  },
  {
   "cell_type": "code",
   "execution_count": null,
   "metadata": {},
   "outputs": [],
   "source": [
    "# Iterate through the list and print every element (token)\n",
    "for token in sentence_as_list:\n",
    "    print(token)"
   ]
  },
  {
   "cell_type": "markdown",
   "metadata": {},
   "source": [
    "We can also iterate through a string. How does this differ from iterating through a list?"
   ]
  },
  {
   "cell_type": "code",
   "execution_count": null,
   "metadata": {},
   "outputs": [],
   "source": [
    "# Iterate through the string and print every element in the string. What are these elements, actually?\n",
    "for c in sentence_as_string:\n",
    "    print(c)"
   ]
  },
  {
   "cell_type": "markdown",
   "metadata": {},
   "source": [
    "#### Sets\n",
    "\n",
    "- Set as a collection of unique elements\n",
    "\n",
    "Let's look at the difference between lists and sets:"
   ]
  },
  {
   "cell_type": "code",
   "execution_count": null,
   "metadata": {},
   "outputs": [],
   "source": [
    "sentence = \"the cat saw the dog\"\n",
    "tokens_in_sentence = sentence.split()\n",
    "\n",
    "# set-function takes in a list and returns a set\n",
    "types_in_sentence = set(tokens_in_sentence)\n",
    "print(\"The set-function results in a:\", type(types_in_sentence), \"data structure.\")"
   ]
  },
  {
   "cell_type": "markdown",
   "metadata": {},
   "source": [
    "Pay attention to how the outputs of the prints differ:"
   ]
  },
  {
   "cell_type": "code",
   "execution_count": null,
   "metadata": {},
   "outputs": [],
   "source": [
    "print(\"Tokens in sentence:\", tokens_in_sentence)\n",
    "print(\"Types in sentence:\", types_in_sentence)"
   ]
  },
  {
   "cell_type": "markdown",
   "metadata": {},
   "source": [
    "Len also works with sets:"
   ]
  },
  {
   "cell_type": "code",
   "execution_count": null,
   "metadata": {},
   "outputs": [],
   "source": [
    "n_types = len(types_in_sentence)\n",
    "print(\"The string has\", n_types, \"types.\")"
   ]
  },
  {
   "cell_type": "markdown",
   "metadata": {},
   "source": [
    "<span style=\"color:red\">**NB: WHAT FOLLOWS ON THE REST OF THIS PAGE IS STILL UNDER CONSTRUCTION!**</span>\n",
    "\n",
    "#### Functions & Flow control\n",
    "\n",
    "- function: input $\\rightarrow$ process $\\rightarrow$ output\n",
    "- if-else statement\n",
    "- booleans\n",
    "\n",
    "Make sure that you understand what goes on in the `fun` function below: "
   ]
  },
  {
   "cell_type": "code",
   "execution_count": null,
   "metadata": {},
   "outputs": [],
   "source": [
    "def fun(word, list_of_words):\n",
    "    # the 'x in list' construct returns True if x\n",
    "    # is in list and False otherwise\n",
    "    if word in list_of_words:\n",
    "        print(\"'\" + word + \"' is in the list.\")\n",
    "    else:\n",
    "        print(\"'\" + word + \"' is not in the list.\")\n",
    "        \n",
    "list1 = [\"bananas\", \"excalibur\", \"fun\"]\n",
    "\n",
    "fun(\"bananas\", list1)\n",
    "fun(\"pineapple\", list1)"
   ]
  },
  {
   "cell_type": "markdown",
   "metadata": {},
   "source": [
    "---\n",
    "## Section 1.2: Functions, methods, objects and classes\n",
    "---\n",
    "In this section we offer a brief introduction to three new programming concepts: **methods**, **objects** and **classes**. They are fundamental in Python programming (or at least the style of programming we learn on this course), and in fact you have already worked with all of them. Let's start with a familiar example:"
   ]
  },
  {
   "cell_type": "code",
   "execution_count": null,
   "metadata": {},
   "outputs": [],
   "source": [
    "sentence = \"This is a sentence\" # This assignment creates a string object...\n",
    "\n",
    "tokens = sentence.split()       # ...and here we use a split-method\n",
    "                                # the object offers\n",
    "print(sentence)\n",
    "print(tokens)"
   ]
  },
  {
   "cell_type": "markdown",
   "metadata": {},
   "source": [
    "In the code cell above, we can see that the `split()` function is not called like the ordinary functions that we are used to seeing. An ordinary function would have a syntax more like `split(sentence)` rather than the _dot-notation_ in `sentence.split()`. The kind of function that `split()` represents is called a **method**. \n",
    "\n",
    "The distinction between methods and functions is subtle. You might think of functions as feeding your data to some process or machine and later gathering the result of the process for your use. In the case of methods, you tell the entity containing the data what you want of it, and the entity gives you the result.\n",
    "\n",
    "In the case of `sentence.split()`, our sentence is an **object** of type _string_. Strings are a **class** of data structures that provide some specific functionality. For example, the definition of the string class includes something about the contents being a sequence of characters, and on sequences of characters some special actions can be performed, such as splitting a string into a list. Splitting can be seen as a _property_ that all strings have in common. In a way, when we type `sentence.split()` we tell our sentence to \"split itself\".\n",
    "\n",
    "A class is an abstract data structure. An object is a real _instantiation_ of a class. In other words, we have the abstract group of strings, which we call the class of strings, but when we create a string for real, such as our sentence \"This is a sentence\", then we have created an object.\n",
    "\n",
    "We don't have to define our own classes on this course, but we could in principle define our own special string class, or a class of Finnish nominals, and we could implement our own methods for our classes, such as `split()` for strings or `partitive()` for Finnish nominals; for instance, we could type `print(my_word.partitive())` and that would produce the partitive-case form of whatever `my_word` happens to contain.\n",
    "\n",
    "In the last lab session we implemented a function `ends_with(string1, string2)` that takes two arguments and returns a `boolean` indicating whether `string1` ends with `string2`. You can find the definition below. \n",
    "\n",
    "Implementing the `ends_with` function was a good illustration, but in fact unnecessary work. The Python string class already supplies a method `endswith()` that takes one string argument and returns a boolean indicating whether the string on which we are calling the method ends with the argument string:"
   ]
  },
  {
   "cell_type": "code",
   "execution_count": null,
   "metadata": {
    "scrolled": false
   },
   "outputs": [],
   "source": [
    "def ends_with(string1, string2):\n",
    "    string_end = string1[-len(string2):] # from the end of string1 take a substring that is as long as string2\n",
    "    return string_end == string2         # is the end of string1 in fact equal to string2?\n",
    "\n",
    "# Here we use the function we defined above\n",
    "print(\"The function returns:\", ends_with(\"string\", \"ing\"))\n",
    "\n",
    "# Here we use the 'endswith' method that is already a built-in feature of Python strings\n",
    "s = \"string\"\n",
    "print(\"The method returns:\", s.endswith(\"ing\"))"
   ]
  },
  {
   "cell_type": "markdown",
   "metadata": {},
   "source": [
    "In the rest of this lab we will use more complex classes and methods supplied by _WordNet_. Keep these ideas in mind as you work with the code.\n",
    "\n",
    "Now you can continue to Part 2."
   ]
  }
 ],
 "metadata": {
  "kernelspec": {
   "display_name": "Python 3",
   "language": "python",
   "name": "python3"
  },
  "language_info": {
   "codemirror_mode": {
    "name": "ipython",
    "version": 3
   },
   "file_extension": ".py",
   "mimetype": "text/x-python",
   "name": "python",
   "nbconvert_exporter": "python",
   "pygments_lexer": "ipython3",
   "version": "3.6.5"
  }
 },
 "nbformat": 4,
 "nbformat_minor": 2
}
