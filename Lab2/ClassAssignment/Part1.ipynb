{
 "cells": [
  {
   "cell_type": "markdown",
   "metadata": {
    "hide_input": false
   },
   "source": [
    "# Semantics and Pragmatics, KIK-LG103\n",
    "\n",
    "## Lab session 2, Part 1\n",
    "\n",
    "---\n",
    "\n",
    "### Section 1.1. Review\n",
    "\n",
    "In this section you can quickly review part of what we did in the last session. Additionally, there is some new stuff. The section consists of example code that you can run (by pressing Ctrl-Enter inside the cell you want to run). You don't have to modify any code in this section.\n",
    "\n",
    "\n",
    "#### Strings and lists\n",
    "\n",
    "- Splitting strings to lists\n",
    "- Iteration through lists\n",
    "- Calculating the length of a list\n",
    "\n",
    "First, let's print a sentence as a string:"
   ]
  },
  {
   "cell_type": "code",
   "execution_count": null,
   "metadata": {},
   "outputs": [],
   "source": [
    "# Assign the sentence to a variable\n",
    "sentence_as_string = \"this is just another string\"\n",
    "print(sentence_as_string)"
   ]
  },
  {
   "cell_type": "markdown",
   "metadata": {},
   "source": [
    "Next, let's split the sentence into a list. Each word in the sentence becomes an element in the list:"
   ]
  },
  {
   "cell_type": "code",
   "execution_count": null,
   "metadata": {},
   "outputs": [],
   "source": [
    "# Split string on whitespace, the result is a list\n",
    "sentence_as_list = sentence_as_string.split()\n",
    "print(sentence_as_list)"
   ]
  },
  {
   "cell_type": "markdown",
   "metadata": {},
   "source": [
    "To know how many elements there are in a list, we use the `len` function. We typically talk about the length of a list. The length is the number of elements in the list."
   ]
  },
  {
   "cell_type": "code",
   "execution_count": null,
   "metadata": {},
   "outputs": [],
   "source": [
    "# len-function returns the length of the list\n",
    "n_tokens = len(sentence_as_list)\n",
    "print(\"The sentence has\", n_tokens, \"tokens.\")"
   ]
  },
  {
   "cell_type": "markdown",
   "metadata": {},
   "source": [
    "We can also determine the length of a string. How does this differ from the length of a list?"
   ]
  },
  {
   "cell_type": "code",
   "execution_count": null,
   "metadata": {},
   "outputs": [],
   "source": [
    "# len-function also returns something for the string. What does it return?\n",
    "len_of_string = len(sentence_as_string)\n",
    "print(\"The length of the sentence as a string is\", len_of_string)"
   ]
  },
  {
   "cell_type": "markdown",
   "metadata": {},
   "source": [
    "Using a `for` loop we can iterate through a list, one element at a time. Here we go through our sentence as a list and print every word in the sentence, one by one:"
   ]
  },
  {
   "cell_type": "code",
   "execution_count": null,
   "metadata": {},
   "outputs": [],
   "source": [
    "# Iterate through the list and print every element (token)\n",
    "for token in sentence_as_list:\n",
    "    print(token)"
   ]
  },
  {
   "cell_type": "markdown",
   "metadata": {},
   "source": [
    "We can also iterate through a string. How does this differ from iterating through a list?"
   ]
  },
  {
   "cell_type": "code",
   "execution_count": null,
   "metadata": {},
   "outputs": [],
   "source": [
    "# Iterate through the string and print every element in the string. What are these elements, actually?\n",
    "for c in sentence_as_string:\n",
    "    print(c)"
   ]
  },
  {
   "cell_type": "markdown",
   "metadata": {},
   "source": [
    "#### Sets\n",
    "\n",
    "- Set as a collection of unique elements\n",
    "\n",
    "Let's look at the difference between lists and sets:"
   ]
  },
  {
   "cell_type": "code",
   "execution_count": null,
   "metadata": {},
   "outputs": [],
   "source": [
    "sentence = \"the cat saw the dog\"\n",
    "tokens_in_sentence = sentence.split()\n",
    "\n",
    "# set-function takes in a list and returns a set\n",
    "types_in_sentence = set(tokens_in_sentence)\n",
    "print(\"The set-function results in a:\", type(types_in_sentence), \"data structure.\")"
   ]
  },
  {
   "cell_type": "markdown",
   "metadata": {},
   "source": [
    "Pay attention to how the outputs of the prints differ:"
   ]
  },
  {
   "cell_type": "code",
   "execution_count": null,
   "metadata": {},
   "outputs": [],
   "source": [
    "print(\"Tokens in sentence:\", tokens_in_sentence)\n",
    "print(\"Types in sentence:\", types_in_sentence)"
   ]
  },
  {
   "cell_type": "markdown",
   "metadata": {},
   "source": [
    "Len also works with sets:"
   ]
  },
  {
   "cell_type": "code",
   "execution_count": null,
   "metadata": {},
   "outputs": [],
   "source": [
    "n_types = len(types_in_sentence)\n",
    "print(\"The string has\", n_types, \"types.\")"
   ]
  },
  {
   "cell_type": "markdown",
   "metadata": {},
   "source": [
    "---\n",
    "\n",
    "### Section 1.2: Functions <a name=\"fun\"></a>\n",
    "\n",
    "We have already seen a few examples of **functions**: `len()`, `print()`, `set()`, and so on. These are so-called built-in functions, they are part of the Python stardard library. The standard library provides a wide range of basic functions, but virtually all non-trivial Python programs require the programmer to define her own functions.\n",
    "\n",
    "The best way to think about functions is that they *encapsulate* a (small) task within the larger program. A stereotypical function 1) takes in data, 2) processes the data in some way, and 3) returns the desired result. \n",
    "\n",
    "Let's use the `len` function as an example. `len` takes in a sequence (a list or a string), calculates the number of atomic elements in the sequence (i.e. its length) and returns the length. Not every function has to return anything, however. The `print` function prints out the data to standard output and doesn't return any value.\n",
    "\n",
    "Below you will see two functions that we have created. The first function is a classical mathematical example. This function computes the area of a circle. As you can see, a function is declared using the `def` keyword:\n"
   ]
  },
  {
   "cell_type": "code",
   "execution_count": null,
   "metadata": {},
   "outputs": [],
   "source": [
    "def circle_area(radius):\n",
    "    # Given the radius of the circle, compute the area\n",
    "    # and return that value:\n",
    "    return 3.141592654 * radius * radius"
   ]
  },
  {
   "cell_type": "markdown",
   "metadata": {},
   "source": [
    "A function is very practical when you want to repeat the same kind of operation multiple times:"
   ]
  },
  {
   "cell_type": "code",
   "execution_count": null,
   "metadata": {},
   "outputs": [],
   "source": [
    "print(\"The areas of my five circles are:\")\n",
    "\n",
    "print(\"1. If the radius is\", 1, \"then the area is\", circle_area(1))\n",
    "print(\"2. If the radius is\", 3, \"then the area is\", circle_area(3))\n",
    "print(\"3. If the radius is\", 5.5, \"then the area is\", circle_area(5.5))\n",
    "print(\"4. If the radius is\", 17, \"then the area is\", circle_area(17))\n",
    "print(\"5. If the radius is\", 99.99, \"then the area is\", circle_area(99.99))"
   ]
  },
  {
   "cell_type": "markdown",
   "metadata": {},
   "source": [
    "Our second function is called `fun`. It takes two arguments: a word and a list of words. The function does not return any value, but it prints whether the given word is in the list or not:"
   ]
  },
  {
   "cell_type": "code",
   "execution_count": null,
   "metadata": {},
   "outputs": [],
   "source": [
    "def fun(word, list_of_words):\n",
    "    # the 'x in list' construct returns True if x\n",
    "    # is in list and False otherwise\n",
    "    if word in list_of_words:\n",
    "        print(\"'\" + word + \"' is in the list.\")\n",
    "    else:\n",
    "        print(\"'\" + word + \"' is not in the list.\")"
   ]
  },
  {
   "cell_type": "markdown",
   "metadata": {},
   "source": [
    "Let's test the `fun` function on some data:"
   ]
  },
  {
   "cell_type": "code",
   "execution_count": null,
   "metadata": {},
   "outputs": [],
   "source": [
    "list1 = [\"bananas\", \"excalibur\", \"fun\"]\n",
    "\n",
    "fun(\"bananas\", list1)\n",
    "fun(\"pineapple\", list1)"
   ]
  },
  {
   "cell_type": "markdown",
   "metadata": {},
   "source": [
    "---\n",
    "\n",
    "**Exercise 1.2.1** Write your own function that does something interesting. For instance, your function can take a person's name as an argument and tell the user whether the name is long or short. A long name might consist of more than 8 characters.\n",
    "\n",
    "---"
   ]
  },
  {
   "cell_type": "code",
   "execution_count": null,
   "metadata": {},
   "outputs": [],
   "source": [
    "# Your own function goes here"
   ]
  },
  {
   "cell_type": "markdown",
   "metadata": {},
   "source": [
    "---\n",
    "### Section 1.3: Methods, objects and classes\n",
    "\n",
    "We will be using the terms **method**, **object** and **class** in connection with the exercises. We believe that you do not need to understand exactly what they mean. It is enough to know that they are clearly defined concepts in Python programming, and you can learn more about that on our programming courses.\n",
    "\n",
    "Nonetheless, let us show an example of a **method** in action:"
   ]
  },
  {
   "cell_type": "code",
   "execution_count": null,
   "metadata": {},
   "outputs": [],
   "source": [
    "sentence = \"This is a sentence\" # This assignment creates a string object...\n",
    "\n",
    "tokens = sentence.split()       # ...and here we use a split-method\n",
    "                                # the object offers\n",
    "print(sentence)\n",
    "print(tokens)"
   ]
  },
  {
   "cell_type": "markdown",
   "metadata": {},
   "source": [
    "In the code cell above, we can see that the `split()` function is not called like the ordinary functions that we are used to seeing. An ordinary function would have a syntax more like `split(sentence)` rather than the _dot-notation_ in `sentence.split()`. The kind of function that `split()` represents is called a **method**. \n",
    "\n",
    "The distinction between methods and functions is subtle. You might think of functions as feeding your data to some process or machine and later gathering the result of the process for your use. In the case of methods, you tell the entity containing the data what you want of it, and the entity gives you the result.\n",
    "\n",
    "In the case of `sentence.split()`, our sentence is an **object** of type _string_. Strings are a **class** of data structures that provide some specific functionality. For example, the definition of the string class includes something about the contents being a sequence of characters, and on sequences of characters some special actions can be performed, such as splitting a string into a list. Splitting can be seen as a _property_ that all strings have in common. In a way, when we type `sentence.split()` we tell our sentence to \"split itself\".\n",
    "\n",
    "In the rest of this lab we will use more complex classes and methods supplied by _WordNet_. Keep these ideas in mind as you work with the code.\n",
    "\n",
    "Now you can continue to Part 2."
   ]
  }
 ],
 "metadata": {
  "kernelspec": {
   "display_name": "Python 3",
   "language": "python",
   "name": "python3"
  },
  "language_info": {
   "codemirror_mode": {
    "name": "ipython",
    "version": 3
   },
   "file_extension": ".py",
   "mimetype": "text/x-python",
   "name": "python",
   "nbconvert_exporter": "python",
   "pygments_lexer": "ipython3",
   "version": "3.6.5"
  }
 },
 "nbformat": 4,
 "nbformat_minor": 2
}
