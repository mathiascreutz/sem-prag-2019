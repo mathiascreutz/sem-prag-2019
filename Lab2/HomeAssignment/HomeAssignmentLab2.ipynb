{
 "cells": [
  {
   "cell_type": "markdown",
   "metadata": {},
   "source": [
    "# Lab 2 home assignment: Lexical relations with WordNet\n",
    "\n",
    "---\n",
    "\n",
    "This home assignment consists of four tasks, each worth 1 point.\n",
    "\n",
    "You can find a lot of this same material in the NLTK book [Chapter 2, Section 5](http://www.nltk.org/book/ch02.html#wordnet).\n",
    "\n",
    "\n",
    "Remember to import WordNet, you need it to complete the tasks."
   ]
  },
  {
   "cell_type": "code",
   "execution_count": null,
   "metadata": {},
   "outputs": [],
   "source": [
    "from nltk.corpus import wordnet as wn"
   ]
  },
  {
   "cell_type": "markdown",
   "metadata": {},
   "source": [
    "---\n",
    "\n",
    "### Task 1\n",
    "\n",
    "Find all synonyms of the words *airplane* and *cottage*. You should:\n",
    "    1. Output the lemma names of the synonyms. \n",
    "    2. Output the synset definitions.\n",
    "    3. Output any example sentences that WordNet might have for these synsets. \n",
    "    4. Output the hyponyms and hypernyms of the synsets of \"airplane\" and \"cottage\".\n",
    "    \n",
    "Recall the function `wn.synsets(word)` and the methods `sense.lemma_names()`, `sense.definition()`, `sense.examples()` from the class assignment. Refer to the class material for how they were used. Remember to output the information for **all** senses (synsets) of these two words. Your output might look something like this:\n",
    "\n",
    "    Word: airplane\n",
    "    Lemma names: ['airplane', ... ]\n",
    "    Definition: This is the definition of the sense\n",
    "    Examples: ['This is an example sentence with the word airplane']\n",
    "    Hyponyms: [Synset('hyponym.n.01'), ...] \n",
    "    Hypernyms: [Synset('hypernym.n.01'), ...]"
   ]
  },
  {
   "cell_type": "code",
   "execution_count": null,
   "metadata": {},
   "outputs": [],
   "source": [
    "# TODO: Solution to Task 1 here"
   ]
  },
  {
   "cell_type": "markdown",
   "metadata": {},
   "source": [
    "---\n",
    "\n",
    "### Preparation for Task 2\n",
    "\n",
    "The Python WordNet interface also gives us convenient tools for finding common hypernyms and paths between different synsets. In the first language technology home assignment on this course, one of your tasks was to construct a path to the lowest common hypernym for a pair of words.\n",
    "\n",
    "We can retrieve the lowest common hypernym(s) between two synsets with the method `lowest_common_hypernyms()`. The method returns a list of synsets. Below you can see an illustration of how to use it. Notice that in the first two lines we assign to the variables `pear_tree` and `apple_tree` specific synsets, not all of the synsets of the words. This can be done by supplying the function `wn.synset` with the name of the desired synset as a string argument. (Notice the difference between `wn.synsets(word)`, which returns all the synsets for a given word, and `wn.synset(synset_name)`, which requires a synset name and returns one synset object.)\n",
    "\n",
    "Synsets also have a method `synset1.shortest_path_distance(synset2)`, which returns the *length* of the shortest path from `synset1` to `synset2`. Note that this method does not return the path itself.\n",
    "\n",
    "---\n",
    "\n",
    "### Task 2\n",
    "\n",
    "This task consists of two parts:\n",
    "\n",
    "**First**, you need to find the lowest common hypernym between the *pear tree* -sense (already given) and the *domestic cat* -sense of the word \"cat\". You need to find the correct synset for the *domestic cat* -sense. You can do this for example by iterating through all the synsets of the word \"cat\" and printing out the names and definitions of the synsets. When you have the name of the correct synset, you can access it with `wn.synset()`. Print out the name and the definition of the lowest common hypernym. You do not need to include in your solution the code for finding the correct sense.\n",
    "\n",
    "**Second**, you need to find and output the lengths of the shortest paths between the synset pairs *apple tree*-*pear tree* and *pear tree*-*domestic cat* (the synset of the word \"cat\" you found in the first part of this exercise)."
   ]
  },
  {
   "cell_type": "code",
   "execution_count": null,
   "metadata": {},
   "outputs": [],
   "source": [
    "# Get the synsets for the 'tree' senses of \n",
    "# the words pear and apple\n",
    "pear_tree = wn.synset(\"pear.n.02\")\n",
    "apple_tree = wn.synset(\"apple.n.02\")\n",
    "\n",
    "# The method returns only one synset in this case, so\n",
    "# the correct synset is in index 0 of the list\n",
    "lowest_common = pear_tree.lowest_common_hypernyms(apple_tree)[0]\n",
    "print(lowest_common.name(), lowest_common.definition())\n",
    "\n",
    "# TODO: Solution to first part of Task 2 here\n",
    "# (lowest common hypernym between pear tree and domestic cat)\n",
    "\n",
    "\n",
    "# TODO: Solution to second part of Task 2 here\n",
    "# (shortest path lengths between on the one hand apple tree and pear tree\n",
    "# and on the other hand pear tree and domestic cat)\n"
   ]
  },
  {
   "cell_type": "markdown",
   "metadata": {},
   "source": [
    "---\n",
    "\n",
    "### Task 3\n",
    "\n",
    "In this exercise your need to investigate the word *berry*. Do the following tasks:\n",
    "\n",
    " 1. How many senses does the word \"berry\" have in WordNet? Print out the answer in your code.\n",
    " 2. Output the definitions of the different senses of \"berry\", and retrieve and output all the hyponyms of the different senses.\n",
    " 3. Is the division of \"berry\" into these senses clear? Does it make sense? Output your answer to these questions using a print-statement.\n"
   ]
  },
  {
   "cell_type": "code",
   "execution_count": null,
   "metadata": {},
   "outputs": [],
   "source": [
    "# Berries, berries"
   ]
  },
  {
   "cell_type": "markdown",
   "metadata": {},
   "source": [
    "---\n",
    "\n",
    "### Task 4\n",
    "\n",
    "Synsets also offer a method `hypernym_paths`. The method `sense.hypernym_paths()` returns a *list of lists* of synsets (a list of lists because one sense can have multiple hypernym paths). One path is a chain of synsets you can follow to go from the current sense to its most distant hypernym, the \"root\" hypernym(s).\n",
    "\n",
    "In this exercise your task is to find **five** different **verb** senses that do not share a single hypernym. For example, the verb sense `blast.v.01` has the following hypernym path:\n",
    "\n",
    "    cause_to_be_perceived.v.01 <- sound.v.02 <- make_noise.v.01 <- blast.v.01\n",
    "    \n",
    "Now we would just need four more verbs that do not contain any of these senses in their hypernym paths. In the code cell below we show you how to access the hypernym paths of a sense, but delete these two lines before you submit your solution. Do not use the example sense (`blast.v.01`) as part of your answer. You need to come up with five verbs of your own choice.\n",
    "\n",
    "Output the hypernym paths for all of the five senses you found using `print`-statements."
   ]
  },
  {
   "cell_type": "code",
   "execution_count": null,
   "metadata": {},
   "outputs": [],
   "source": [
    "blast_v = wn.synset(\"blast.v.01\")\n",
    "print(blast_v.hypernym_paths())"
   ]
  },
  {
   "cell_type": "markdown",
   "metadata": {},
   "source": [
    "When you are done, download this notebook page as a Python file (.py) and submit the Python file on Moodle.\n",
    "\n",
    "Good luck!"
   ]
  }
 ],
 "metadata": {
  "kernelspec": {
   "display_name": "Python 3",
   "language": "python",
   "name": "python3"
  },
  "language_info": {
   "codemirror_mode": {
    "name": "ipython",
    "version": 3
   },
   "file_extension": ".py",
   "mimetype": "text/x-python",
   "name": "python",
   "nbconvert_exporter": "python",
   "pygments_lexer": "ipython3",
   "version": "3.6.5"
  }
 },
 "nbformat": 4,
 "nbformat_minor": 2
}
